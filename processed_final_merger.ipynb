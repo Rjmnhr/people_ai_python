{
 "cells": [
  {
   "cell_type": "code",
   "execution_count": 1,
   "metadata": {},
   "outputs": [],
   "source": [
    "import pandas as pd \n",
    "import os"
   ]
  },
  {
   "cell_type": "code",
   "execution_count": 13,
   "metadata": {},
   "outputs": [
    {
     "name": "stdout",
     "output_type": "stream",
     "text": [
      "c:\\Users\\PM\\Desktop\\executable\\postprocessed_final_20240209.csv\n",
      "c:\\Users\\PM\\Desktop\\executable\\postprocessed_final_20240210.csv\n",
      "c:\\Users\\PM\\Desktop\\executable\\postprocessed_final_20240211.csv\n"
     ]
    }
   ],
   "source": [
    "current_directory = os.getcwd()\n",
    "files_to_process = [file for file in os.listdir(current_directory) if file.startswith('postprocessed')]\n",
    "\n",
    "df = pd.DataFrame()\n",
    "for file in files_to_process: \n",
    "    input_file = os.path.join(current_directory, file)\n",
    "    tempdf = pd.read_csv(input_file)\n",
    "    df = pd.concat([df,tempdf],ignore_index=True)\n",
    "    print(input_file)\n",
    "df.to_excel('merged.xlsx',index=False)"
   ]
  }
 ],
 "metadata": {
  "kernelspec": {
   "display_name": "Python 3",
   "language": "python",
   "name": "python3"
  },
  "language_info": {
   "codemirror_mode": {
    "name": "ipython",
    "version": 3
   },
   "file_extension": ".py",
   "mimetype": "text/x-python",
   "name": "python",
   "nbconvert_exporter": "python",
   "pygments_lexer": "ipython3",
   "version": "3.11.4"
  }
 },
 "nbformat": 4,
 "nbformat_minor": 2
}
