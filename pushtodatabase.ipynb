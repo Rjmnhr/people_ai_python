{
 "cells": [
  {
   "cell_type": "code",
   "execution_count": 17,
   "metadata": {},
   "outputs": [],
   "source": [
    "import pandas as pd\n",
    "import numpy as np\n",
    "import re"
   ]
  },
  {
   "cell_type": "code",
   "execution_count": 30,
   "metadata": {},
   "outputs": [],
   "source": [
    "df = pd.read_excel('merged_latest..xlsx')"
   ]
  },
  {
   "cell_type": "code",
   "execution_count": 31,
   "metadata": {},
   "outputs": [],
   "source": [
    "del df['entireDiv']"
   ]
  },
  {
   "cell_type": "code",
   "execution_count": 32,
   "metadata": {},
   "outputs": [],
   "source": [
    "df['summary'] = df['description']\n",
    "df['description'] = np.nan"
   ]
  },
  {
   "cell_type": "code",
   "execution_count": 33,
   "metadata": {},
   "outputs": [],
   "source": [
    "# df['sal_id'] = 0\n",
    "# for cat in df['classification'].unique():\n",
    "#     ind = df[df['classification'] == cat].index\n",
    "#     new_ind = df[df['classification'] == cat].reset_index().index + 1\n",
    "#     df.loc[df['classification'] == cat,'sal_id'] = new_ind\n",
    "\n",
    "df['sal_id'] = df.index + 1"
   ]
  },
  {
   "cell_type": "code",
   "execution_count": 34,
   "metadata": {},
   "outputs": [
    {
     "data": {
      "text/plain": [
       "Index(['link', 'classification', 'category', 'title', 'company', 'salary',\n",
       "       'min_salary', 'average_salary', 'max_salary', 'location', 'description',\n",
       "       'date_posted', 'Date', 'contract', 'summary', 'sal_id'],\n",
       "      dtype='object')"
      ]
     },
     "execution_count": 34,
     "metadata": {},
     "output_type": "execute_result"
    }
   ],
   "source": [
    "df.columns"
   ]
  },
  {
   "cell_type": "code",
   "execution_count": 35,
   "metadata": {},
   "outputs": [
    {
     "data": {
      "text/plain": [
       "2221"
      ]
     },
     "execution_count": 35,
     "metadata": {},
     "output_type": "execute_result"
    }
   ],
   "source": [
    "df['date_posted'].isna().sum()"
   ]
  },
  {
   "cell_type": "code",
   "execution_count": 36,
   "metadata": {},
   "outputs": [
    {
     "data": {
      "text/plain": [
       "492"
      ]
     },
     "execution_count": 36,
     "metadata": {},
     "output_type": "execute_result"
    }
   ],
   "source": [
    "len(df['location'].unique())"
   ]
  },
  {
   "cell_type": "code",
   "execution_count": 37,
   "metadata": {},
   "outputs": [],
   "source": [
    "df.loc[df['location'] == 'Australia','location'] = 'Other'"
   ]
  },
  {
   "cell_type": "code",
   "execution_count": 39,
   "metadata": {},
   "outputs": [
    {
     "data": {
      "text/plain": [
       "array(['Other'], dtype=object)"
      ]
     },
     "execution_count": 39,
     "metadata": {},
     "output_type": "execute_result"
    }
   ],
   "source": [
    "df[~df['location'].str.contains(r'^[a-zA-Z\\s]+(?=.*[A-Z]{2,})', regex=True)]['location'].unique()"
   ]
  },
  {
   "cell_type": "code",
   "execution_count": 43,
   "metadata": {},
   "outputs": [],
   "source": [
    "stordf = pd.read_excel('sub_city_latandlon.xlsx')"
   ]
  },
  {
   "cell_type": "code",
   "execution_count": 66,
   "metadata": {},
   "outputs": [],
   "source": [
    "stordf['city'] = stordf['city'].str.replace(' Local Municipality','').str.replace('City Council','').str.strip()"
   ]
  },
  {
   "cell_type": "code",
   "execution_count": 87,
   "metadata": {},
   "outputs": [],
   "source": [
    "stor_dict = {}\n",
    "\n",
    "for state in stordf['state'].unique():\n",
    "    cities = set(stordf[(stordf['state'] == state) & (~stordf['city'].isna())]['city'].unique().tolist())\n",
    "    city_dict = {}\n",
    "    for city in cities:\n",
    "        domain_search_strings = stordf[(stordf['state'] == state) & (stordf['city'] == city)]['domain_search_string'].unique().tolist()\n",
    "        domain_search_strings = [' '.join(i.split('-')[:-2]) for i in domain_search_strings]\n",
    "        city_dict[city] = set(domain_search_strings)\n",
    "    stor_dict[state] = city_dict"
   ]
  },
  {
   "cell_type": "code",
   "execution_count": 99,
   "metadata": {},
   "outputs": [],
   "source": [
    "for loca in df['location'].unique():\n",
    "    if loca != 'Other' and loca != np.nan:\n",
    "        state = loca.split(' ')[-1]\n",
    "        subu_or_city = ' '.join(loca.split(' ')[:-1]).lower()\n",
    "        deep_search = 0\n",
    "        for city_st in stor_dict[state]:\n",
    "            if city_st.lower() in subu_or_city.lower():\n",
    "                df.loc[df['location'] == loca,'location'] = city_st.title() + ' ' + state\n",
    "                deep_serch = 1\n",
    "                break\n",
    "        if deep_search == 0:\n",
    "            for city_st in stor_dict[state]:\n",
    "                for sub_st in stor_dict[state][city_st]:\n",
    "                    if sub_st.lower() in subu_or_city.lower():\n",
    "                        df.loc[df['location'] == loca,'location'] = city_st.title() + ' ' + state\n",
    "                        deep_search = 1\n",
    "                        break\n",
    "                if deep_search == 1:\n",
    "                    break"
   ]
  },
  {
   "cell_type": "code",
   "execution_count": 103,
   "metadata": {},
   "outputs": [
    {
     "data": {
      "text/plain": [
       "array(['Adelaide SA', 'Sydney NSW', 'Brisbane QLD', 'Perth WA',\n",
       "       'Cairns QLD', 'Other', 'Melbourne VIC', 'Launceston TAS',\n",
       "       'Hobart TAS', 'Gold Coast QLD',\n",
       "       'Tennant Creek, Katherine & Northern Australia NT', 'Canberra ACT',\n",
       "       'Wollongong NSW', 'Darwin NT', 'Toowoomba QLD', 'Geelong VIC',\n",
       "       'Rockhampton QLD', 'Barongarook, South West Coast VIC',\n",
       "       'Sunshine Coast QLD', 'Townsville QLD', 'Newcastle NSW',\n",
       "       'Bunbury WA', 'Esperance WA', 'Albany WA', 'Port Hedland WA',\n",
       "       'Loxton, Riverland & Murray Mallee SA', 'Mackay QLD',\n",
       "       'Sunshine Coast Regional QLD', 'Bundaberg QLD', 'Bendigo VIC',\n",
       "       'Whyalla SA', 'Wodonga VIC', 'Traralgon VIC',\n",
       "       'Sale, Bairnsdale & Gippsland VIC', 'Geraldton WA',\n",
       "       'Gladstone QLD', 'Noosa Heads, Sunshine Coast QLD',\n",
       "       'Winton, Western QLD', 'Broome WA', 'Alice Springs NT',\n",
       "       'Devonport TAS', 'Wurruk, Bairnsdale & Gippsland VIC',\n",
       "       'Mount Gambier SA', 'Olympic Dam, Coober Pedy & Outback SA',\n",
       "       'Lawn Hill, Western QLD', 'Warrnambool VIC',\n",
       "       'Naracoorte, Mt Gambier & Limestone Coast SA', 'Ballarat VIC',\n",
       "       'Katherine, Katherine & Northern Australia NT', 'Shepparton VIC',\n",
       "       'Northam, Northam & Wheatbelt WA', 'Mount Isa QLD',\n",
       "       'Horsham, Horsham & Grampians VIC', 'Gympie QLD',\n",
       "       'Cloncurry, Western QLD',\n",
       "       'Jamestown, Yorke Peninsula & Clare Valley SA',\n",
       "       'Proserpine, Northern QLD', 'Hervey Bay QLD', 'Mandurah WA',\n",
       "       'Airlie Beach, Northern QLD',\n",
       "       'Tarraleah, Central & South East TAS', 'Surat, Western QLD',\n",
       "       'Warragul VIC', 'Burnie TAS', 'Portland, South West Coast VIC',\n",
       "       'Ayr, Northern QLD', 'Lorne, South West Coast VIC', 'Mildura VIC',\n",
       "       'Portarlington, South West Coast VIC',\n",
       "       'Allansford, South West Coast VIC', 'Colac, South West Coast VIC',\n",
       "       'Yallourn, West Gippsland & Latrobe Valley VIC',\n",
       "       'Darlington, South West Coast VIC',\n",
       "       'Bairnsdale, Bairnsdale & Gippsland VIC',\n",
       "       'Nhulunbuy, Katherine & Northern Australia NT',\n",
       "       'Port Wakefield, Yorke Peninsula & Clare Valley SA',\n",
       "       'Drouin, West Gippsland & Latrobe Valley VIC',\n",
       "       'St George, Western QLD',\n",
       "       'Tanami, Katherine & Northern Australia NT',\n",
       "       'Balmoral, Horsham & Grampians VIC',\n",
       "       'Ocean Grove, South West Coast VIC', 'Bairnsdale & Gippsland VIC',\n",
       "       'Lakes Entrance, Bairnsdale & Gippsland VIC',\n",
       "       'Korumburra, Bairnsdale & Gippsland VIC', 'Northern QLD',\n",
       "       'Stawell, Horsham & Grampians VIC',\n",
       "       'Kalkarindji, Katherine & Northern Australia NT',\n",
       "       'Peterborough, Yorke Peninsula & Clare Valley SA',\n",
       "       'Donald, Horsham & Grampians VIC',\n",
       "       'Gove, Katherine & Northern Australia NT',\n",
       "       'Groote Eylandt, Katherine & Northern Australia NT',\n",
       "       'Jabiru, Katherine & Northern Australia NT',\n",
       "       'Heywood, South West Coast VIC', 'Tewantin, Sunshine Coast QLD',\n",
       "       'Ingham, Northern QLD',\n",
       "       'Kingston Se, Mt Gambier & Limestone Coast SA',\n",
       "       'North Kellerberrin, Northam & Wheatbelt WA',\n",
       "       'New Norfolk, Central & South East TAS',\n",
       "       'Kulin West, Northam & Wheatbelt WA', 'Roma, Western QLD',\n",
       "       'Merredin, Northam & Wheatbelt WA', 'Guthalungra, Northern QLD',\n",
       "       'Dover, Central & South East TAS',\n",
       "       'Halbury, Yorke Peninsula & Clare Valley SA',\n",
       "       'Wadeye, Katherine & Northern Australia NT',\n",
       "       'Regans Ford, Northam & Wheatbelt WA',\n",
       "       'Murray Bridge, Riverland & Murray Mallee SA',\n",
       "       'Charters Towers, Northern QLD',\n",
       "       'Port Fairy, South West Coast VIC',\n",
       "       'Leongatha, Bairnsdale & Gippsland VIC',\n",
       "       'Rainbow, Horsham & Grampians VIC', 'Ravenswood, Northern QLD',\n",
       "       'Cooroy, Sunshine Coast QLD',\n",
       "       'Moe, West Gippsland & Latrobe Valley VIC',\n",
       "       'Williams, Northam & Wheatbelt WA',\n",
       "       'Grass Valley, Northam & Wheatbelt WA',\n",
       "       'Morwell, West Gippsland & Latrobe Valley VIC',\n",
       "       'Collinsville, Northern QLD',\n",
       "       'Coober Pedy, Coober Pedy & Outback SA',\n",
       "       'Yambuk, South West Coast VIC',\n",
       "       'Pine Creek, Katherine & Northern Australia NT',\n",
       "       'Southern Cross, Northam & Wheatbelt WA', 'Bowen, Northern QLD',\n",
       "       'Hamilton, Horsham & Grampians VIC',\n",
       "       'Bordertown, Mt Gambier & Limestone Coast SA',\n",
       "       'Daly River, Katherine & Northern Australia NT',\n",
       "       'Fernvale, Somerset & Lockyer QLD',\n",
       "       'Ali Curung, Katherine & Northern Australia NT',\n",
       "       'York, Northam & Wheatbelt WA',\n",
       "       'Cunderdin, Northam & Wheatbelt WA',\n",
       "       'Fulham, Bairnsdale & Gippsland VIC', 'Charleville, Western QLD',\n",
       "       'Roxby Downs, Coober Pedy & Outback SA',\n",
       "       'Dysart, Central & South East TAS',\n",
       "       'Alyangula, Katherine & Northern Australia NT',\n",
       "       'Moomba, Coober Pedy & Outback SA',\n",
       "       'Dimboola, Horsham & Grampians VIC',\n",
       "       'Millicent, Mt Gambier & Limestone Coast SA',\n",
       "       'Helidon, Somerset & Lockyer QLD',\n",
       "       'East Sale, Bairnsdale & Gippsland VIC',\n",
       "       'Warracknabeal, Horsham & Grampians VIC',\n",
       "       'Edithburgh, Yorke Peninsula & Clare Valley SA',\n",
       "       'Hallett, Yorke Peninsula & Clare Valley SA',\n",
       "       'Port Pirie, Yorke Peninsula & Clare Valley SA',\n",
       "       'Gatton, Somerset & Lockyer QLD',\n",
       "       'Burra, Yorke Peninsula & Clare Valley SA',\n",
       "       'Esk, Somerset & Lockyer QLD', 'Torquay, South West Coast VIC',\n",
       "       'Cannonvale, Northern QLD', 'Avalon, South West Coast VIC',\n",
       "       'Wundowie, Northam & Wheatbelt WA',\n",
       "       'St Arnaud, Horsham & Grampians VIC',\n",
       "       'Australia Plains, Yorke Peninsula & Clare Valley SA',\n",
       "       'Cooljarloo, Northam & Wheatbelt WA',\n",
       "       'Koolyanobbing, Northam & Wheatbelt WA', 'Doomadgee, Western QLD',\n",
       "       'Lara, South West Coast VIC', 'Noosaville, Sunshine Coast QLD',\n",
       "       'Narrogin, Northam & Wheatbelt WA', 'Mitchell, Western QLD',\n",
       "       'Laidley, Somerset & Lockyer QLD', 'Birdsville, Western QLD',\n",
       "       'Whitsundays, Northern QLD', 'Narembeen, Northam & Wheatbelt WA',\n",
       "       'Tindal, Katherine & Northern Australia NT',\n",
       "       'Julia Creek, Western QLD', 'Grey, Northam & Wheatbelt WA',\n",
       "       'Wycheproof, Horsham & Grampians VIC',\n",
       "       'Churchill, West Gippsland & Latrobe Valley VIC',\n",
       "       'Greenhills, Northam & Wheatbelt WA',\n",
       "       'Grampians, Horsham & Grampians VIC', 'Western QLD',\n",
       "       'Katherine & Northern Australia NT',\n",
       "       'Borroloola, Katherine & Northern Australia NT',\n",
       "       'Colac West, South West Coast VIC',\n",
       "       'Blyth, Yorke Peninsula & Clare Valley SA',\n",
       "       'Innamincka, Coober Pedy & Outback SA', 'Northam & Wheatbelt WA',\n",
       "       'Sunrise Beach, Sunshine Coast QLD',\n",
       "       'Victor Harbor, Fleurieu Peninsula & Kangaroo Island SA',\n",
       "       'Cunnamulla, Western QLD', 'Quilpie, Western QLD',\n",
       "       'Camooweal, Western QLD', 'Roseneath, Northern QLD'], dtype=object)"
      ]
     },
     "execution_count": 103,
     "metadata": {},
     "output_type": "execute_result"
    }
   ],
   "source": [
    "df['location'].unique()"
   ]
  },
  {
   "cell_type": "code",
   "execution_count": 109,
   "metadata": {},
   "outputs": [],
   "source": [
    "df = df.reindex(columns = ['sal_id', 'link', 'classification', 'category', 'title', 'company', 'salary',\n",
    "       'min_salary', 'average_salary', 'max_salary', 'location', 'description', 'summary',\n",
    "       'date_posted', 'Date', 'contract'])"
   ]
  },
  {
   "cell_type": "code",
   "execution_count": 110,
   "metadata": {},
   "outputs": [],
   "source": [
    "df.columns = df.columns.str.replace(r'\\W+', '_', regex=True).str.replace(r'_+', '_', regex=True).str.strip('_').str.lower()"
   ]
  },
  {
   "cell_type": "code",
   "execution_count": 111,
   "metadata": {},
   "outputs": [
    {
     "data": {
      "text/plain": [
       "Index(['sal_id', 'link', 'classification', 'category', 'title', 'company',\n",
       "       'salary', 'min_salary', 'average_salary', 'max_salary', 'location',\n",
       "       'description', 'summary', 'date_posted', 'date', 'contract'],\n",
       "      dtype='object')"
      ]
     },
     "execution_count": 111,
     "metadata": {},
     "output_type": "execute_result"
    }
   ],
   "source": [
    "df.columns"
   ]
  },
  {
   "cell_type": "code",
   "execution_count": 112,
   "metadata": {},
   "outputs": [
    {
     "name": "stdout",
     "output_type": "stream",
     "text": [
      "Connected to MySQL database\n"
     ]
    }
   ],
   "source": [
    "from sqlalchemy import create_engine\n",
    "import mysql.connector\n",
    "\n",
    "# Define your database connection parameters\n",
    "host = \"139.99.171.231\"\n",
    "user = \"remote\"\n",
    "password = \"Peopleai#12345\"\n",
    "database = \"peopleai\"\n",
    "\n",
    "# Establish a connection to the database\n",
    "connection = mysql.connector.connect(\n",
    "    host=host,\n",
    "    user=user,\n",
    "    password=password,\n",
    "    database=database\n",
    ")\n",
    "\n",
    "# Check if the connection was successful\n",
    "if connection.is_connected():\n",
    "    print(\"Connected to MySQL database\")\n",
    "\n",
    "# Close the connection when done\n",
    "# Define the SQLAlchemy connection string\n",
    "engine = create_engine(f\"mysql+mysqlconnector://{user}:{password}@{host}/{database}\")"
   ]
  },
  {
   "cell_type": "code",
   "execution_count": 113,
   "metadata": {},
   "outputs": [
    {
     "name": "stdout",
     "output_type": "stream",
     "text": [
      "information_schema\n",
      "mysql\n",
      "peopleai\n",
      "performance_schema\n",
      "sys\n"
     ]
    }
   ],
   "source": [
    "cursor = connection.cursor()\n",
    "cursor.execute(\"SHOW DATABASES\")\n",
    "\n",
    "databases = cursor.fetchall()\n",
    "for db in databases:\n",
    "    print(db[0])"
   ]
  },
  {
   "cell_type": "code",
   "execution_count": 114,
   "metadata": {},
   "outputs": [
    {
     "name": "stdout",
     "output_type": "stream",
     "text": [
      "progress: 3/3 Data inserted successfully.\n"
     ]
    }
   ],
   "source": [
    "chunk_size = 10000  # Adjust the chunk size as needed\n",
    "num_chunks = len(df) // chunk_size + 1\n",
    "\n",
    "engine = create_engine(f\"mysql+mysqlconnector://{user}:{password}@{host}/{database}\")\n",
    "\n",
    "# Delete the existing table if it exists\n",
    "cursor = connection.cursor()\n",
    "cursor.execute(\"DROP TABLE IF EXISTS seek_extract\")\n",
    "connection.commit()\n",
    "\n",
    "for i in range(num_chunks):\n",
    "    start_idx = i * chunk_size\n",
    "    end_idx = min((i + 1) * chunk_size, len(df))\n",
    "    chunk_df = df.iloc[start_idx:end_idx]\n",
    "    chunk_df.to_sql(name='seek_extract', con=engine, if_exists='append', index=False)\n",
    "    print(f'\\rprogress: {i+1}/{num_chunks}',end=' ')\n",
    "print(\"Data inserted successfully.\")"
   ]
  },
  {
   "cell_type": "code",
   "execution_count": null,
   "metadata": {},
   "outputs": [],
   "source": []
  }
 ],
 "metadata": {
  "kernelspec": {
   "display_name": "Python 3",
   "language": "python",
   "name": "python3"
  },
  "language_info": {
   "codemirror_mode": {
    "name": "ipython",
    "version": 3
   },
   "file_extension": ".py",
   "mimetype": "text/x-python",
   "name": "python",
   "nbconvert_exporter": "python",
   "pygments_lexer": "ipython3",
   "version": "3.11.4"
  }
 },
 "nbformat": 4,
 "nbformat_minor": 2
}
